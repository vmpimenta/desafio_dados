{
 "cells": [
  {
   "cell_type": "code",
   "execution_count": 1,
   "id": "22f31ccd",
   "metadata": {},
   "outputs": [],
   "source": [
    "import pandas as pd\n",
    "from sqlalchemy import create_engine, MetaData, Table, Column, Integer, String, Numeric, DateTime, ForeignKey\n",
    "from sqlalchemy.exc import ProgrammingError\n",
    "import configparser\n",
    "import secrets"
   ]
  },
  {
   "cell_type": "code",
   "execution_count": 2,
   "id": "880ccb9e",
   "metadata": {},
   "outputs": [],
   "source": [
    "#pegando os arquivos csv e criando DF;\n",
    "\n",
    "clientes = pd.read_csv(\"olist_customers_dataset.csv\") #dimensao feita;\n",
    "itens_pedidos = pd.read_csv(\"olist_order_items_dataset.csv\") \n",
    "pagamentos = pd.read_csv(\"olist_order_payments_dataset.csv\") #dimensao feita;\n",
    "pedidos = pd.read_csv(\"olist_orders_dataset.csv\") #dimensao feita;\n",
    "produtos_vendidos = pd.read_csv(\"olist_products_dataset.csv\") #dimensao feita;\n",
    "avaliacoes = pd.read_csv(\"olist_order_reviews_dataset.csv\") "
   ]
  },
  {
   "cell_type": "markdown",
   "id": "ed82005e",
   "metadata": {},
   "source": [
    "### Configurando as DIM"
   ]
  },
  {
   "cell_type": "code",
   "execution_count": null,
   "id": "e1ed6da7",
   "metadata": {},
   "outputs": [],
   "source": []
  },
  {
   "cell_type": "markdown",
   "id": "8387cb55",
   "metadata": {},
   "source": [
    "#### CONFIGURANDO A DIM_PRODUTOS // LEMBRETE* LEVAR A PRODUTOS_NULL PARA O BD"
   ]
  },
  {
   "cell_type": "code",
   "execution_count": 3,
   "id": "4acd31fb",
   "metadata": {},
   "outputs": [
    {
     "name": "stdout",
     "output_type": "stream",
     "text": [
      "32341\n",
      "611\n"
     ]
    }
   ],
   "source": [
    "#dimensao produtos\n",
    "dim_products = produtos_vendidos\n",
    "#removendo valores duplicados;\n",
    "dim_products = dim_products.drop_duplicates(subset=['product_id'])\n",
    "#ARMAZENANDO OS VALORES NULOS DA TABELA \"dim_produtos\" EM OUTRO DF;\n",
    "products_null = produtos_vendidos[produtos_vendidos.isnull().any(axis=1)]\n",
    "#removendo colunas que não entrarão na minha dimensao para análise;\n",
    "dim_products = dim_products.drop(columns=['product_name_lenght','product_description_lenght','product_photos_qty','product_weight_g','product_length_cm','product_height_cm','product_width_cm'])\n",
    "#removendo valores nulos;\n",
    "dim_products = dim_products.dropna()\n",
    "\n",
    "print(len(dim_products))\n",
    "print(len(products_null))"
   ]
  },
  {
   "cell_type": "markdown",
   "id": "d77d824b",
   "metadata": {},
   "source": [
    "#### CONFIGURANDO A DIM_PEDIDOS // LEMBRETE* LEVAR A PEDIDOS_NULL PARA O BD"
   ]
  },
  {
   "cell_type": "code",
   "execution_count": 4,
   "id": "3f022dc2",
   "metadata": {},
   "outputs": [
    {
     "name": "stdout",
     "output_type": "stream",
     "text": [
      "99441\n",
      "2980\n"
     ]
    }
   ],
   "source": [
    "#dimensao pedidos\n",
    "dim_orders = pedidos\n",
    "# removendo os valores duplicados\n",
    "dim_orders = dim_orders.drop_duplicates(subset=['order_id'])\n",
    "#ARMAZENANDO OS VALORES NULOS DA TABELA \"dim_pedidos\" EM OUTRO DF;\n",
    "orders_null = pedidos[pedidos.isnull().any(axis=1)]\n",
    "#removendo colunas que não entraram na minha dimensão para análise;\n",
    "dim_orders = dim_orders.drop(columns=['order_status','order_id','order_estimated_delivery_date','order_delivered_customer_date','order_delivered_carrier_date','order_approved_at'])\n",
    "#removendo os valores nulos;\n",
    "dim_orders = dim_orders.dropna()\n",
    "\n",
    "print(len(dim_orders))\n",
    "print(len(orders_null))"
   ]
  },
  {
   "cell_type": "markdown",
   "id": "d46bf885",
   "metadata": {},
   "source": [
    "#### CONFIGURANDO A DIM_CLIENTES "
   ]
  },
  {
   "cell_type": "code",
   "execution_count": 5,
   "id": "74b70ab1",
   "metadata": {},
   "outputs": [
    {
     "name": "stdout",
     "output_type": "stream",
     "text": [
      "96096\n"
     ]
    }
   ],
   "source": [
    "#dimensao clientes;\n",
    "dim_customers = clientes\n",
    "#removendo valores nulos;\n",
    "dim_customers = dim_customers.dropna()\n",
    "#removendo valores duplicados;\n",
    "dim_customers = dim_customers.drop_duplicates(subset=[\"customer_unique_id\"])\n",
    "#removendo a coluna customer_id  pois não irei usar nessa dimensão;\n",
    "dim_customers = dim_customers.drop(columns=['customer_id'])\n",
    "\n",
    "print(len(dim_customers))"
   ]
  },
  {
   "cell_type": "markdown",
   "id": "ad6382e0",
   "metadata": {},
   "source": [
    "#### CONFIGURANDO A DIM_PAGAMENTOS  // LEMBRETE* LEVAR A  PAGAMENTOS_NULL PARA O BD"
   ]
  },
  {
   "cell_type": "code",
   "execution_count": 4,
   "id": "b0034cdf",
   "metadata": {},
   "outputs": [
    {
     "data": {
      "text/html": [
       "<div>\n",
       "<style scoped>\n",
       "    .dataframe tbody tr th:only-of-type {\n",
       "        vertical-align: middle;\n",
       "    }\n",
       "\n",
       "    .dataframe tbody tr th {\n",
       "        vertical-align: top;\n",
       "    }\n",
       "\n",
       "    .dataframe thead th {\n",
       "        text-align: right;\n",
       "    }\n",
       "</style>\n",
       "<table border=\"1\" class=\"dataframe\">\n",
       "  <thead>\n",
       "    <tr style=\"text-align: right;\">\n",
       "      <th></th>\n",
       "      <th>order_id</th>\n",
       "      <th>payment_type</th>\n",
       "      <th>payments_id</th>\n",
       "      <th>value_type_payment</th>\n",
       "      <th>payment_sequential_per_type</th>\n",
       "    </tr>\n",
       "  </thead>\n",
       "  <tbody>\n",
       "    <tr>\n",
       "      <th>4346</th>\n",
       "      <td>ccf804e764ed5650cd8759557269dc13</td>\n",
       "      <td>voucher</td>\n",
       "      <td>4347</td>\n",
       "      <td>60.48</td>\n",
       "      <td>25</td>\n",
       "    </tr>\n",
       "    <tr>\n",
       "      <th>14362</th>\n",
       "      <td>ccf804e764ed5650cd8759557269dc13</td>\n",
       "      <td>credit_card</td>\n",
       "      <td>14363</td>\n",
       "      <td>2.20</td>\n",
       "      <td>1</td>\n",
       "    </tr>\n",
       "  </tbody>\n",
       "</table>\n",
       "</div>"
      ],
      "text/plain": [
       "                               order_id payment_type  payments_id  \\\n",
       "4346   ccf804e764ed5650cd8759557269dc13      voucher         4347   \n",
       "14362  ccf804e764ed5650cd8759557269dc13  credit_card        14363   \n",
       "\n",
       "       value_type_payment  payment_sequential_per_type  \n",
       "4346                60.48                           25  \n",
       "14362                2.20                            1  "
      ]
     },
     "metadata": {},
     "output_type": "display_data"
    },
    {
     "data": {
      "text/html": [
       "<div>\n",
       "<style scoped>\n",
       "    .dataframe tbody tr th:only-of-type {\n",
       "        vertical-align: middle;\n",
       "    }\n",
       "\n",
       "    .dataframe tbody tr th {\n",
       "        vertical-align: top;\n",
       "    }\n",
       "\n",
       "    .dataframe thead th {\n",
       "        text-align: right;\n",
       "    }\n",
       "</style>\n",
       "<table border=\"1\" class=\"dataframe\">\n",
       "  <thead>\n",
       "    <tr style=\"text-align: right;\">\n",
       "      <th></th>\n",
       "      <th>order_id</th>\n",
       "      <th>payment_type</th>\n",
       "      <th>payments_id</th>\n",
       "      <th>value_type_payment</th>\n",
       "      <th>payment_sequential_per_type</th>\n",
       "    </tr>\n",
       "  </thead>\n",
       "  <tbody>\n",
       "    <tr>\n",
       "      <th>71010</th>\n",
       "      <td>8272b63d03f5f79c56e9e4120aec44ef</td>\n",
       "      <td>credit_card</td>\n",
       "      <td>71011</td>\n",
       "      <td>196.11</td>\n",
       "      <td>1</td>\n",
       "    </tr>\n",
       "  </tbody>\n",
       "</table>\n",
       "</div>"
      ],
      "text/plain": [
       "                               order_id payment_type  payments_id  \\\n",
       "71010  8272b63d03f5f79c56e9e4120aec44ef  credit_card        71011   \n",
       "\n",
       "       value_type_payment  payment_sequential_per_type  \n",
       "71010              196.11                            1  "
      ]
     },
     "metadata": {},
     "output_type": "display_data"
    }
   ],
   "source": [
    "#dimensão pagamentos; copy() resolve problema com atribuição simples... o DataFrame pagamentos permanece inalterado após modificações em dim_pagamentos...\n",
    "dim_payments = pagamentos.copy()\n",
    "#removendo dados duplicados\n",
    "dim_payments = dim_payments.dropna()\n",
    "#CRIANDO UM NOVO ID para referenciar na fato e não ter problema com o ID duplicado na fato;\n",
    "dim_payments['payments_id'] = dim_payments['payments_id'] = range(1, len(dim_payments) + 1)\n",
    "# Somando o valor final de pagamento e agrupando pelo tipo de pagamento e armazenando em outra coluna;\n",
    "dim_payments['value_type_payment'] = dim_payments.groupby(['order_id','payment_type'])['payment_value'].transform('sum')\n",
    "# Somando a quantidade de vezes que o pagamento foi feito de acordo com o tipo de pagamento e armazenando em outra coluna;\n",
    "dim_payments['payment_sequential_per_type'] = dim_payments.groupby(['order_id','payment_type'])['payment_sequential'].transform('count')\n",
    "#excluindo tabela de payment_value e payment_sequential pois não será mais usada devido a coluna value_type_payment e payment_installments pois estará na fato;\n",
    "dim_payments = dim_payments.drop(columns=['payment_sequential','payment_value','payment_installments'])\n",
    "#CRIANDO UM ID UNICO PARA PODER REFERENCIAR NA MINHA TABELA FATO; USANDO A BIBLIOTECA SECRETS dim_payments['payments_id'] = [secrets.token_hex(16) for _ in range(len(dim_payments))]\n",
    "#dim_payments['payments_id'].apply(lambda x: x[:32]) FAZENDO UMA FUNÇÃO LAMBDA PARA QUE A CHAVE TENHA UM TOTAL DE 32DIGITOS, PARA SEGUIR O PADRÃO DOS ID's;\n",
    "#excluindo as informações duplicadas; \n",
    "dim_payments = dim_payments.drop_duplicates(subset=['order_id','payment_type'])\n",
    "\n",
    "#conferindo resultado;\n",
    "display(dim_payments[dim_payments['order_id'] == 'ccf804e764ed5650cd8759557269dc13'])\n",
    "display(dim_payments[dim_payments['order_id'] == '8272b63d03f5f79c56e9e4120aec44ef'])"
   ]
  },
  {
   "cell_type": "code",
   "execution_count": 6,
   "id": "7959477a",
   "metadata": {},
   "outputs": [],
   "source": []
  },
  {
   "cell_type": "code",
   "execution_count": null,
   "id": "c7058669",
   "metadata": {},
   "outputs": [],
   "source": []
  },
  {
   "cell_type": "code",
   "execution_count": null,
   "id": "f5761683",
   "metadata": {},
   "outputs": [],
   "source": []
  },
  {
   "cell_type": "code",
   "execution_count": null,
   "id": "3e1a5b08",
   "metadata": {},
   "outputs": [],
   "source": []
  },
  {
   "cell_type": "code",
   "execution_count": null,
   "id": "129ea22c",
   "metadata": {},
   "outputs": [],
   "source": []
  },
  {
   "cell_type": "code",
   "execution_count": null,
   "id": "4d60425b",
   "metadata": {},
   "outputs": [],
   "source": []
  },
  {
   "cell_type": "code",
   "execution_count": null,
   "id": "18c4caf6",
   "metadata": {},
   "outputs": [],
   "source": []
  },
  {
   "cell_type": "code",
   "execution_count": null,
   "id": "13724c61",
   "metadata": {},
   "outputs": [],
   "source": []
  },
  {
   "cell_type": "code",
   "execution_count": null,
   "id": "4cb9766e",
   "metadata": {},
   "outputs": [],
   "source": []
  },
  {
   "cell_type": "markdown",
   "id": "c79081ee",
   "metadata": {},
   "source": [
    "### Configurando a Fato"
   ]
  },
  {
   "cell_type": "code",
   "execution_count": null,
   "id": "dae34958",
   "metadata": {},
   "outputs": [],
   "source": []
  },
  {
   "cell_type": "code",
   "execution_count": 5,
   "id": "b34a23d2",
   "metadata": {},
   "outputs": [],
   "source": [
    "#Iniciando a tabela FATO com a junção das tabelas pedidos e pagamentos;\n",
    "fato_sales = pd.merge(pedidos,pagamentos, on='order_id',how='left')\n",
    "#Excluindo colunas que não estará na minha análise; \n",
    "fato_sales = fato_sales.drop(columns=['order_status','order_purchase_timestamp','order_approved_at','order_delivered_carrier_date','order_delivered_customer_date','order_estimated_delivery_date'])\n",
    "#criando uma coluna temporaria para agrupar o valor do pedido pelo tipo de pagamento;\n",
    "fato_sales['temp_type_payment'] = fato_sales.groupby(['order_id','payment_type'])['payment_value'].transform('sum')\n",
    "\n",
    "fato_sales['paid_value'] = fato_sales.groupby(['order_id'])['payment_value'].transform('sum') \n",
    "\n",
    "#fato_sales['price_total'] = fato_sales.groupby(['order_id'])['value_type_payment'].transform('sum')\n",
    "fato_sales = fato_sales.drop(columns=['payment_sequential','payment_type','payment_value','temp_type_payment'])\n",
    "\n",
    "fato_sales = fato_sales.drop_duplicates()"
   ]
  },
  {
   "cell_type": "code",
   "execution_count": 6,
   "id": "8aeba7e1",
   "metadata": {},
   "outputs": [],
   "source": [
    "# Unindo a fato com a tabela de itens_pedidos;\n",
    "fato_sales = pd.merge(fato_sales,itens_pedidos, on='order_id',how='left')\n",
    "\n",
    "# Excluindo colunas que não estará na minha análise;\n",
    "fato_sales = fato_sales.drop(columns=['seller_id','shipping_limit_date','order_item_id'])\n",
    "\n",
    "# Criando uma coluna com o valor final do produto por pedido;\n",
    "fato_sales['price_total'] = fato_sales.groupby(['order_id','product_id'])['price'].transform('sum')\n",
    "\n",
    "# Criando uma coluna com o valor final do frete por pedido;\n",
    "fato_sales['freight_total'] = fato_sales.groupby(['order_id','product_id'])['freight_value'].transform('sum')\n",
    "\n",
    "# Contando a quantidade produtos por pedido e armazenando esse valor em outra coluna; decisão minha para evitar a quantidade de linhas que teria com a coluna \"order_item_id\"  que é a sequencia que um produto se repete no pedido, agrupei todos os produtos e deixei a quantidade final;\n",
    "fato_sales['itens_per_order'] = fato_sales.groupby(['order_id','product_id'])['product_id'].transform('count')\n",
    "\n",
    "# excluindo as linhas duplicadas;\n",
    "fato_sales = fato_sales.drop_duplicates(subset=['product_id','order_id'])"
   ]
  },
  {
   "cell_type": "code",
   "execution_count": null,
   "id": "f09e5bb8",
   "metadata": {},
   "outputs": [],
   "source": []
  },
  {
   "cell_type": "code",
   "execution_count": 8,
   "id": "6957661d",
   "metadata": {},
   "outputs": [],
   "source": [
    "#unido a tabela de avaliacoes à fato;\n",
    "fato_sales = pd.merge(fato_sales,avaliacoes, on='order_id',how='left')\n",
    "\n",
    "#removendo colunas que não usarei na análise;\n",
    "fato_sales = fato_sales.drop(columns=['review_answer_timestamp','review_creation_date','review_comment_message','review_comment_title'])"
   ]
  },
  {
   "cell_type": "code",
   "execution_count": 9,
   "id": "07924292",
   "metadata": {},
   "outputs": [],
   "source": [
    "# Unindo a tabela de produtos à fato;\n",
    "fato_sales = pd.merge(fato_sales,produtos_vendidos, on='product_id',how='left')\n",
    "\n",
    "#removendo colunas que não usarei na análise;\n",
    "fato_sales = fato_sales.drop(columns=['product_category_name','product_name_lenght','product_description_lenght','product_photos_qty','product_weight_g','product_length_cm','product_height_cm','product_width_cm'])"
   ]
  },
  {
   "cell_type": "code",
   "execution_count": 10,
   "id": "d6853bc8",
   "metadata": {},
   "outputs": [],
   "source": [
    "#unido a tabela de clientes à fato;\n",
    "fato_sales = pd.merge(fato_sales,clientes, on='customer_id',how='left')\n",
    "\n",
    "#removendo as colunas de acordo com a modelagem;\n",
    "fato_sales = fato_sales.drop(columns=['customer_zip_code_prefix','customer_city','customer_state'])"
   ]
  },
  {
   "cell_type": "code",
   "execution_count": 11,
   "id": "0208bd88",
   "metadata": {
    "scrolled": true
   },
   "outputs": [
    {
     "data": {
      "text/plain": [
       "'#pegando as linhas nulas na coluna de categoria de produto e armazenando em outro DF;\\nfato_product_category_null = fato[fato[\\'product_category_name\\'].isna()]\\n#removendo da tabela fato as linhas nulas da coluna \"product_category_name\";\\nfato = fato[~fato[\\'product_category_name\\'].isna()]'"
      ]
     },
     "execution_count": 11,
     "metadata": {},
     "output_type": "execute_result"
    }
   ],
   "source": [
    "'''#pegando as linhas nulas na coluna de categoria de produto e armazenando em outro DF;\n",
    "fato_product_category_null = fato[fato['product_category_name'].isna()]\n",
    "#removendo da tabela fato as linhas nulas da coluna \"product_category_name\";\n",
    "fato = fato[~fato['product_category_name'].isna()]'''"
   ]
  },
  {
   "cell_type": "code",
   "execution_count": 12,
   "id": "44f23d8e",
   "metadata": {},
   "outputs": [],
   "source": [
    "#pegando as linhas nulas na parte do review e armazenando em outro DF;\n",
    "fato_review_null = fato_sales[fato_sales['review_id'].isna()]\n",
    "#removendo da tabela fato as linhas nulas da coluna review_id\n",
    "fato_sales = fato_sales[~fato_sales['review_id'].isna()]"
   ]
  },
  {
   "cell_type": "code",
   "execution_count": 13,
   "id": "f9cef6e9",
   "metadata": {},
   "outputs": [],
   "source": [
    "installments_null = fato_sales[fato_sales.isnull().any(axis=1)]\n",
    "fato_sales = fato_sales[~fato_sales['payment_installments'].isna()]"
   ]
  },
  {
   "cell_type": "code",
   "execution_count": 14,
   "id": "53f64f99",
   "metadata": {},
   "outputs": [
    {
     "data": {
      "text/html": [
       "<div>\n",
       "<style scoped>\n",
       "    .dataframe tbody tr th:only-of-type {\n",
       "        vertical-align: middle;\n",
       "    }\n",
       "\n",
       "    .dataframe tbody tr th {\n",
       "        vertical-align: top;\n",
       "    }\n",
       "\n",
       "    .dataframe thead th {\n",
       "        text-align: right;\n",
       "    }\n",
       "</style>\n",
       "<table border=\"1\" class=\"dataframe\">\n",
       "  <thead>\n",
       "    <tr style=\"text-align: right;\">\n",
       "      <th></th>\n",
       "      <th>order_id</th>\n",
       "      <th>customer_id</th>\n",
       "      <th>payment_installments</th>\n",
       "      <th>paid_value</th>\n",
       "      <th>product_id</th>\n",
       "      <th>price</th>\n",
       "      <th>freight_value</th>\n",
       "      <th>price_total</th>\n",
       "      <th>freight_total</th>\n",
       "      <th>itens_per_order</th>\n",
       "      <th>review_id</th>\n",
       "      <th>review_score</th>\n",
       "      <th>customer_unique_id</th>\n",
       "    </tr>\n",
       "  </thead>\n",
       "  <tbody>\n",
       "    <tr>\n",
       "      <th>81039</th>\n",
       "      <td>ccf804e764ed5650cd8759557269dc13</td>\n",
       "      <td>92cd3ec6e2d643d4ebd0e3d6238f69e2</td>\n",
       "      <td>1.0</td>\n",
       "      <td>62.68</td>\n",
       "      <td>8d37ee446981d3790967d0268d6cfc81</td>\n",
       "      <td>49.99</td>\n",
       "      <td>12.69</td>\n",
       "      <td>49.99</td>\n",
       "      <td>12.69</td>\n",
       "      <td>1.0</td>\n",
       "      <td>8823bba1e3301fee652eb06de8ef9435</td>\n",
       "      <td>5.0</td>\n",
       "      <td>569aa12b73b5f7edeaa6f2a01603e381</td>\n",
       "    </tr>\n",
       "  </tbody>\n",
       "</table>\n",
       "</div>"
      ],
      "text/plain": [
       "                               order_id                       customer_id  \\\n",
       "81039  ccf804e764ed5650cd8759557269dc13  92cd3ec6e2d643d4ebd0e3d6238f69e2   \n",
       "\n",
       "       payment_installments  paid_value                        product_id  \\\n",
       "81039                   1.0       62.68  8d37ee446981d3790967d0268d6cfc81   \n",
       "\n",
       "       price  freight_value  price_total  freight_total  itens_per_order  \\\n",
       "81039  49.99          12.69        49.99          12.69              1.0   \n",
       "\n",
       "                              review_id  review_score  \\\n",
       "81039  8823bba1e3301fee652eb06de8ef9435           5.0   \n",
       "\n",
       "                     customer_unique_id  \n",
       "81039  569aa12b73b5f7edeaa6f2a01603e381  "
      ]
     },
     "metadata": {},
     "output_type": "display_data"
    },
    {
     "data": {
      "text/html": [
       "<div>\n",
       "<style scoped>\n",
       "    .dataframe tbody tr th:only-of-type {\n",
       "        vertical-align: middle;\n",
       "    }\n",
       "\n",
       "    .dataframe tbody tr th {\n",
       "        vertical-align: top;\n",
       "    }\n",
       "\n",
       "    .dataframe thead th {\n",
       "        text-align: right;\n",
       "    }\n",
       "</style>\n",
       "<table border=\"1\" class=\"dataframe\">\n",
       "  <thead>\n",
       "    <tr style=\"text-align: right;\">\n",
       "      <th></th>\n",
       "      <th>order_id</th>\n",
       "      <th>customer_id</th>\n",
       "      <th>payment_installments</th>\n",
       "      <th>paid_value</th>\n",
       "      <th>product_id</th>\n",
       "      <th>price</th>\n",
       "      <th>freight_value</th>\n",
       "      <th>price_total</th>\n",
       "      <th>freight_total</th>\n",
       "      <th>itens_per_order</th>\n",
       "      <th>review_id</th>\n",
       "      <th>review_score</th>\n",
       "      <th>customer_unique_id</th>\n",
       "    </tr>\n",
       "  </thead>\n",
       "  <tbody>\n",
       "    <tr>\n",
       "      <th>92703</th>\n",
       "      <td>8272b63d03f5f79c56e9e4120aec44ef</td>\n",
       "      <td>fc3d1daec319d62d49bfb5e1f83123e9</td>\n",
       "      <td>2.0</td>\n",
       "      <td>196.11</td>\n",
       "      <td>270516a3f41dc035aa87d220228f844c</td>\n",
       "      <td>1.2</td>\n",
       "      <td>7.89</td>\n",
       "      <td>12.0</td>\n",
       "      <td>78.90</td>\n",
       "      <td>10.0</td>\n",
       "      <td>e8236fe7b6e1bdd513a500de361e2b87</td>\n",
       "      <td>1.0</td>\n",
       "      <td>4546caea018ad8c692964e3382debd19</td>\n",
       "    </tr>\n",
       "    <tr>\n",
       "      <th>92704</th>\n",
       "      <td>8272b63d03f5f79c56e9e4120aec44ef</td>\n",
       "      <td>fc3d1daec319d62d49bfb5e1f83123e9</td>\n",
       "      <td>2.0</td>\n",
       "      <td>196.11</td>\n",
       "      <td>05b515fdc76e888aada3c6d66c201dff</td>\n",
       "      <td>1.2</td>\n",
       "      <td>7.89</td>\n",
       "      <td>12.0</td>\n",
       "      <td>78.90</td>\n",
       "      <td>10.0</td>\n",
       "      <td>e8236fe7b6e1bdd513a500de361e2b87</td>\n",
       "      <td>1.0</td>\n",
       "      <td>4546caea018ad8c692964e3382debd19</td>\n",
       "    </tr>\n",
       "    <tr>\n",
       "      <th>92705</th>\n",
       "      <td>8272b63d03f5f79c56e9e4120aec44ef</td>\n",
       "      <td>fc3d1daec319d62d49bfb5e1f83123e9</td>\n",
       "      <td>2.0</td>\n",
       "      <td>196.11</td>\n",
       "      <td>79ce45dbc2ea29b22b5a261bbb7b7ee7</td>\n",
       "      <td>7.8</td>\n",
       "      <td>6.57</td>\n",
       "      <td>7.8</td>\n",
       "      <td>6.57</td>\n",
       "      <td>1.0</td>\n",
       "      <td>e8236fe7b6e1bdd513a500de361e2b87</td>\n",
       "      <td>1.0</td>\n",
       "      <td>4546caea018ad8c692964e3382debd19</td>\n",
       "    </tr>\n",
       "  </tbody>\n",
       "</table>\n",
       "</div>"
      ],
      "text/plain": [
       "                               order_id                       customer_id  \\\n",
       "92703  8272b63d03f5f79c56e9e4120aec44ef  fc3d1daec319d62d49bfb5e1f83123e9   \n",
       "92704  8272b63d03f5f79c56e9e4120aec44ef  fc3d1daec319d62d49bfb5e1f83123e9   \n",
       "92705  8272b63d03f5f79c56e9e4120aec44ef  fc3d1daec319d62d49bfb5e1f83123e9   \n",
       "\n",
       "       payment_installments  paid_value                        product_id  \\\n",
       "92703                   2.0      196.11  270516a3f41dc035aa87d220228f844c   \n",
       "92704                   2.0      196.11  05b515fdc76e888aada3c6d66c201dff   \n",
       "92705                   2.0      196.11  79ce45dbc2ea29b22b5a261bbb7b7ee7   \n",
       "\n",
       "       price  freight_value  price_total  freight_total  itens_per_order  \\\n",
       "92703    1.2           7.89         12.0          78.90             10.0   \n",
       "92704    1.2           7.89         12.0          78.90             10.0   \n",
       "92705    7.8           6.57          7.8           6.57              1.0   \n",
       "\n",
       "                              review_id  review_score  \\\n",
       "92703  e8236fe7b6e1bdd513a500de361e2b87           1.0   \n",
       "92704  e8236fe7b6e1bdd513a500de361e2b87           1.0   \n",
       "92705  e8236fe7b6e1bdd513a500de361e2b87           1.0   \n",
       "\n",
       "                     customer_unique_id  \n",
       "92703  4546caea018ad8c692964e3382debd19  \n",
       "92704  4546caea018ad8c692964e3382debd19  \n",
       "92705  4546caea018ad8c692964e3382debd19  "
      ]
     },
     "metadata": {},
     "output_type": "display_data"
    }
   ],
   "source": [
    "display(fato_sales[fato_sales['order_id'] == 'ccf804e764ed5650cd8759557269dc13'])\n",
    "display(fato_sales[fato_sales['order_id'] == '8272b63d03f5f79c56e9e4120aec44ef'])"
   ]
  },
  {
   "cell_type": "markdown",
   "id": "45a7c649",
   "metadata": {},
   "source": [
    "#### CRIANDO O BANCO DE DADOS"
   ]
  },
  {
   "cell_type": "code",
   "execution_count": 15,
   "id": "321f0eaf",
   "metadata": {},
   "outputs": [],
   "source": [
    "#função para ler o arquivo database.ini onde armazena as credenciais;\n",
    "def read_db_config(filename='database.ini', section='postgresql'):\n",
    "    parser = configparser.ConfigParser()\n",
    "    parser.read(filename)\n",
    "\n",
    "    db_conf = {}\n",
    "    if parser.has_section(section):\n",
    "        params = parser.items(section)\n",
    "        for param in params:\n",
    "            db_conf[param[0]] = param[1]\n",
    "    return db_conf\n",
    "\n",
    "db_conf = read_db_config()\n",
    "\n",
    "#URL de conexão ao postgres usando o create_engine e usando as credenciais no database.ini (adiantando as melhores praticas de conexão)\n",
    "engine_url = f\"postgresql://{db_conf['user']}:{db_conf['password']}@{db_conf['host']}:{db_conf['port']}/postgres\"\n",
    "engine = create_engine(engine_url)"
   ]
  },
  {
   "cell_type": "code",
   "execution_count": 16,
   "id": "16ab9c58",
   "metadata": {},
   "outputs": [],
   "source": [
    "# instanciando e nomeando o BD que vou usar;\n",
    "db_name = 'desafio_sqlalchemy'"
   ]
  },
  {
   "cell_type": "code",
   "execution_count": 17,
   "id": "12007bef",
   "metadata": {},
   "outputs": [
    {
     "name": "stdout",
     "output_type": "stream",
     "text": [
      "Banco de dados 'desafio_sqlalchemy' criado com sucesso!\n"
     ]
    }
   ],
   "source": [
    "# CONEXÃO E CRIAÇÃO DO NOVO BANCO DE DADOS;\n",
    "# a utilização do With permite que a conexão seja fechada automaticamente; então não preciso usar o conn.close() dessa forma;\n",
    "with engine.connect() as conn:\n",
    "    conn = conn.execution_options(isolation_level=\"AUTOCOMMIT\")\n",
    "    try:\n",
    "        conn.execute(f\"CREATE DATABASE {db_name}\")\n",
    "        print(f\"Banco de dados '{db_name}' criado com sucesso!\")\n",
    "    except ProgrammingError as e:\n",
    "        print(f\"Erro ao criar o banco de dados: {e}\")\n",
    "    #finally:   #DEIXANDO ESSE PARTE DO CÓDIGO PARA LEMBRAR DESSA OPÇÃO;\n",
    "        #if conn is not None:\n",
    "            #print(f\"Conexão com o banco de dados '{db_name}' fechada!\")\n",
    "            #conn.close()"
   ]
  },
  {
   "cell_type": "markdown",
   "id": "ce2b35a4",
   "metadata": {},
   "source": [
    "#### CRIANDO AS TABELAS NO BANCO QUE FOI FEITO NO CODIGO ACIMA"
   ]
  },
  {
   "cell_type": "code",
   "execution_count": 18,
   "id": "1a278f53",
   "metadata": {},
   "outputs": [],
   "source": [
    "#criando uma nova url de conexão agora para acessar o novo banco de dados;\n",
    "new_engine_url = f\"postgresql://{db_conf['user']}:{db_conf['password']}@{db_conf['host']}:{db_conf['port']}/{db_name}\"\n",
    "new_engine = create_engine(new_engine_url)"
   ]
  },
  {
   "cell_type": "code",
   "execution_count": 19,
   "id": "4549ecac",
   "metadata": {},
   "outputs": [],
   "source": [
    "# Criar tabelas no novo banco de dados\n",
    "metadata = MetaData()\n",
    "\n",
    "# Definição das tabelas\n",
    "tabela_clientes = Table('dim_customers', metadata,\n",
    "                       Column('customer_unique_id', String(33), primary_key=True),\n",
    "                       Column('customer_zip_code_prefix', Integer),\n",
    "                       Column('customer_city', String(100)),\n",
    "                       Column('customer_state', String(2))\n",
    "                       )\n",
    "\n",
    "tabela_pagamentos = Table('dim_payments', metadata,\n",
    "                       Column('order_id', String(33), primary_key=True),\n",
    "                       Column('payment_type', String(25), primary_key=True),\n",
    "                       Column('value_type_payment', Numeric(10,2)),\n",
    "                       Column('payment_sequential_per_type', Integer)\n",
    "                       )\n",
    "\n",
    "tabela_pedidos = Table('dim_orders', metadata,\n",
    "                       Column('customer_id', String(33), primary_key=True),\n",
    "                       Column('customer_purchase_timestamp', DateTime)\n",
    "                       )\n",
    "\n",
    "tabela_products = Table('dim_products', metadata,\n",
    "                       Column('product_id', String(33), primary_key=True),\n",
    "                       Column('product_category_name', String(50))\n",
    "                       )\n",
    "tabela_fato = Table('fato_sales', metadata,\n",
    "                       Column('order_id', String(33), ForeignKey('dim_payments.order_id'), primary_key=True),\n",
    "                       Column('customer_id', String(33), ForeignKey('dim_orders.customer_id'), primary_key=True),\n",
    "                       Column('review_id', String(33), primary_key=True),\n",
    "                       Column('customer_unique_id', String(33), ForeignKey('dim_customers.customer_unique_id'), primary_key=True),\n",
    "                       Column('product_id', String(33), ForeignKey('dim_products.product_id'), primary_key=True),\n",
    "                       Column('price', Numeric(10,2)),\n",
    "                       Column('freight_value', Numeric(10,2)),\n",
    "                       Column('itens_per_order', Integer),\n",
    "                       Column('price_total', Numeric(10,2)),\n",
    "                       Column('freight_total', Numeric(10,2)),\n",
    "                       Column('paid_value', Numeric(10,2)),\n",
    "                       Column('payment_installments', String(2)),\n",
    "                       Column('score_review', String(1))                                        \n",
    "                       )\n"
   ]
  },
  {
   "cell_type": "code",
   "execution_count": 20,
   "id": "7becd505",
   "metadata": {},
   "outputs": [
    {
     "name": "stdout",
     "output_type": "stream",
     "text": [
      "Erro ao inserir dados na tabeladim_customers: (psycopg2.errors.InvalidForeignKey) there is no unique constraint matching given keys for referenced table \"dim_payments\"\n",
      "\n",
      "[SQL: \n",
      "CREATE TABLE fato_sales (\n",
      "\torder_id VARCHAR(33) NOT NULL, \n",
      "\tcustomer_id VARCHAR(33) NOT NULL, \n",
      "\treview_id VARCHAR(33) NOT NULL, \n",
      "\tcustomer_unique_id VARCHAR(33) NOT NULL, \n",
      "\tproduct_id VARCHAR(33) NOT NULL, \n",
      "\tprice NUMERIC(10, 2), \n",
      "\tfreight_value NUMERIC(10, 2), \n",
      "\titens_per_order INTEGER, \n",
      "\tprice_total NUMERIC(10, 2), \n",
      "\tfreight_total NUMERIC(10, 2), \n",
      "\tpaid_value NUMERIC(10, 2), \n",
      "\tpayment_installments VARCHAR(2), \n",
      "\tscore_review VARCHAR(1), \n",
      "\tPRIMARY KEY (order_id, customer_id, review_id, customer_unique_id, product_id), \n",
      "\tFOREIGN KEY(order_id) REFERENCES dim_payments (order_id), \n",
      "\tFOREIGN KEY(customer_id) REFERENCES dim_orders (customer_id), \n",
      "\tFOREIGN KEY(customer_unique_id) REFERENCES dim_customers (customer_unique_id), \n",
      "\tFOREIGN KEY(product_id) REFERENCES dim_products (product_id)\n",
      ")\n",
      "\n",
      "]\n",
      "(Background on this error at: https://sqlalche.me/e/14/f405)\n"
     ]
    }
   ],
   "source": [
    "# Conectar ao novo banco de dados, criar as tabelas e alimentar com os dataframes;\n",
    "with new_engine.connect() as conn:\n",
    "    try:\n",
    "        metadata.create_all(new_engine)\n",
    "        print(\"Tabelas criadas com sucesso!\")\n",
    "        dim_customers.to_sql('dim_customers', con=new_engine, if_exists='append', index=False)\n",
    "        dim_payments.to_sql('dim_payments', con=new_engine, if_exists='append', index=False)\n",
    "        dim_orders.to_sql('dim_orders', con=new_engine, if_exists='append', index=False)\n",
    "        dim_products.to_sql('dim_products', con=new_engine, if_exists='append', index=False)\n",
    "        fato_sales.to_sql('fato_sales', con=new_engine, if_exists='append', index=False)\n",
    "        #LEMBRETE FALTA CRIAR AS TABELAS COM OS DADOS NULOS\n",
    "        print(\"Dados inseridos com sucesso!\")\n",
    "    except ProgrammingError as err:\n",
    "        print(f\"Erro ao inserir dados na tabela{tabela_clientes}: {err}\")"
   ]
  },
  {
   "cell_type": "code",
   "execution_count": null,
   "id": "c958b59a",
   "metadata": {},
   "outputs": [],
   "source": [
    "engine.dispose()\n",
    "new_engine.dispose()"
   ]
  },
  {
   "cell_type": "code",
   "execution_count": 48,
   "id": "748b41b3",
   "metadata": {},
   "outputs": [],
   "source": []
  },
  {
   "cell_type": "code",
   "execution_count": null,
   "id": "7604e982",
   "metadata": {},
   "outputs": [],
   "source": []
  },
  {
   "cell_type": "code",
   "execution_count": null,
   "id": "032d8bdc",
   "metadata": {},
   "outputs": [],
   "source": []
  },
  {
   "cell_type": "code",
   "execution_count": null,
   "id": "63d59e9b",
   "metadata": {},
   "outputs": [],
   "source": []
  },
  {
   "cell_type": "code",
   "execution_count": null,
   "id": "6fd70a8a",
   "metadata": {},
   "outputs": [],
   "source": []
  },
  {
   "cell_type": "code",
   "execution_count": null,
   "id": "602fa94b",
   "metadata": {},
   "outputs": [],
   "source": []
  },
  {
   "cell_type": "code",
   "execution_count": null,
   "id": "fd23173b",
   "metadata": {},
   "outputs": [],
   "source": []
  },
  {
   "cell_type": "code",
   "execution_count": null,
   "id": "d7ec014c",
   "metadata": {},
   "outputs": [],
   "source": []
  },
  {
   "cell_type": "code",
   "execution_count": null,
   "id": "da060b33",
   "metadata": {},
   "outputs": [],
   "source": []
  },
  {
   "cell_type": "code",
   "execution_count": null,
   "id": "70d30c3e",
   "metadata": {},
   "outputs": [],
   "source": []
  },
  {
   "cell_type": "code",
   "execution_count": null,
   "id": "5faa5af1",
   "metadata": {},
   "outputs": [],
   "source": []
  },
  {
   "cell_type": "code",
   "execution_count": null,
   "id": "46759955",
   "metadata": {},
   "outputs": [],
   "source": []
  },
  {
   "cell_type": "code",
   "execution_count": null,
   "id": "b658d47b",
   "metadata": {},
   "outputs": [],
   "source": []
  },
  {
   "cell_type": "code",
   "execution_count": null,
   "id": "665a33c6",
   "metadata": {},
   "outputs": [],
   "source": []
  },
  {
   "cell_type": "code",
   "execution_count": null,
   "id": "72925521",
   "metadata": {},
   "outputs": [],
   "source": []
  },
  {
   "cell_type": "markdown",
   "id": "83b7fe4b",
   "metadata": {},
   "source": [
    "#####  TALVEZ SEJA INTERESSANTE"
   ]
  },
  {
   "cell_type": "code",
   "execution_count": null,
   "id": "222a1037",
   "metadata": {},
   "outputs": [],
   "source": [
    "#armazenando os pedidos de acordo com o seu status;\n",
    "#NÃO PRECISO LEVAR ISSO;\n",
    "'''# Armazenando os pedidos cancelados, enviados, indisponíveis e faturados;\n",
    "order_canceled = fato[fato['order_status'] == 'canceled']\n",
    "order_shipped = fato[fato['order_status'] == 'shipped']\n",
    "order_unavailable = fato[fato['order_status'] == 'unavailable']\n",
    "order_invoiced = fato[fato['order_status'] == 'invoiced']\n",
    "\n",
    "# Removendo todas as linhas onde os pedidos estão cancelados, enviados, indisponíveis e faturados;\n",
    "fato = fato[~fato['order_status'].isin(['canceled', 'shipped', 'unavailable', 'invoiced'])]\n",
    "#Excluindo colunas que não estará na minha análise; \n",
    "fato = fato.drop(columns=['order_status'])'''"
   ]
  },
  {
   "cell_type": "code",
   "execution_count": 16,
   "id": "fb86d237",
   "metadata": {},
   "outputs": [],
   "source": [
    "'''# QUANDO QUISER SABER ONDE OS IDS SE REPETEM\n",
    "# Passo 1: Identificar os review_id duplicados\n",
    "#duplicated_order_ids = avaliacoes[avaliacoes.duplicated('review_id', keep=False)]['review_id']\n",
    "# Passo 2: Filtrar as linhas que possuem esses order_id duplicados\n",
    "#duplicated_rows = avaliacoes[avaliacoes['review_id'].isin(duplicated_order_ids)]'''"
   ]
  },
  {
   "cell_type": "code",
   "execution_count": 17,
   "id": "73bae8fd",
   "metadata": {},
   "outputs": [],
   "source": [
    "'''#### CONFIGURANDO A DIM_ITENS_POR_PRODUTOS /// ESTARÁ NA FATO!!!!\n",
    "#dim_itens_por_pedidos = itens_pedidos\n",
    "\n",
    "#### contando a quantidade produtos por pedidos e armazenando esse valor em outra coluna \n",
    "#dim_itens_por_pedidos['itens_per_order'] = dim_itens_por_pedidos.groupby(['order_id','product_id'])['product_id'].transform('count')\n",
    "\n",
    "##### excluindo as linhas iguais \"drop_duplicates\" ; # NA FATO, DROP DESSA FORMA\n",
    "#dim_itens_por_pedidos = dim_itens_por_pedidos.drop_duplicates(subset=['product_id', 'order_id'])\n",
    "\n",
    "##### removendo a coluna ordem_item_id, pois depois de ter feito a coluna com a quantidade dos produtos em cada pedido ela não é necessária e também removendo as colunas que estarão na FATO;\n",
    "#dim_itens_por_pedidos = dim_itens_por_pedidos.drop(columns=['order_item_id','price','freight_value'])\n",
    "\n",
    "#####depois de tirar a dúvida, decidir se essas colunas também serão removidas;\n",
    "#dim_itens_por_pedidos = dim_itens_por_pedidos.drop(columns=['seller_id','shipping_limit_date'])\n",
    "\n",
    "#####imprimindo para visualizar;\n",
    "#display(dim_itens_por_pedidos[dim_itens_por_pedidos['order_id'] == '8272b63d03f5f79c56e9e4120aec44ef'])'''"
   ]
  },
  {
   "cell_type": "code",
   "execution_count": 18,
   "id": "aa5fb08f",
   "metadata": {},
   "outputs": [],
   "source": [
    "'''# criação que deve ser feita na tabela fato\n",
    "### AQUI ESTOU FAZENDO OS TESTES PELA TABELA \"DIM\";\n",
    "\n",
    "#####somando os valores dos produtos por pedido e o valor total do frete por item em cada pedido, agrupando pelo id do pedido e armazenando o resultado em duas novas colunas respectivamente;\n",
    "#teste = itens_pedidos.groupby('order_id')[['price','freight_value']].sum().reset_index()\n",
    "\n",
    "#####renomeando as colunas price e freight_value para price_total e freight_total pois agora são esses valores.\n",
    "#teste.rename(columns={'price': 'price_total','freight_value':'freight_total'}, inplace=True)\n",
    "\n",
    "#####criando a coluna paid_value, que é a soma do preço do total dos itens + o preço total do frete.\n",
    "#teste['paid_value'] = teste['price_total'] + teste['freight_total']\n",
    "\n",
    "#####testando para conferir o resultado; do codigo acima\n",
    "#display(teste[teste['order_id'] == '8272b63d03f5f79c56e9e4120aec44ef'])'''"
   ]
  },
  {
   "cell_type": "code",
   "execution_count": null,
   "id": "238f235c",
   "metadata": {},
   "outputs": [],
   "source": [
    "'''#configuração de acesso ao postgres e alimentação das tabelas;\n",
    "\n",
    "import psycopg2\n",
    "from sqlalchemy import create_engine\n",
    "import configparser\n",
    "\n",
    "#função para ler o arquivo database.ini onde armazena as credenciais;\n",
    "def read_db_config(filename='database.ini', section='postgresql'):\n",
    "    parser = configparser.ConfigParser()\n",
    "    parser.read(filename)\n",
    "\n",
    "    db_conf = {}\n",
    "    if parser.has_section(section):\n",
    "        params = parser.items(section)\n",
    "        for param in params:\n",
    "            db_conf[param[0]] = param[1]\n",
    "    return db_conf\n",
    "\n",
    "db_conf = read_db_config()\n",
    "\n",
    "connection_string = f\"postgresql+psycopg2://{db_conf['user']}:{db_conf['password']}@{db_conf['host']}:{db_conf['port']}/{db_conf['database']}\"\n",
    "\n",
    "engine = create_engine(connection_string)\n",
    "\n",
    "#alimentando as tabelas existentes no banco de dados através dos dataframes;\n",
    "table_name = \"dim_avaliacoes\"\n",
    "dim_avaliacoes.to_sql(table_name, engine, if_exists='append', index=False)\n",
    "\n",
    "table_name = \"dim_clientes\"\n",
    "dim_clientes.to_sql(table_name, engine,if_exists='append', index=False)\n",
    "\n",
    "table_name = \"dim_pagamentos\"\n",
    "dim_pagamentos.to_sql(table_name, engine,if_exists='append', index=False)\n",
    "\n",
    "table_name = \"dim_pedidos\"\n",
    "dim_pedidos.to_sql(table_name, engine,if_exists='append', index=False)\n",
    "\n",
    "table_name = \"dim_produtos\"\n",
    "dim_produtos.to_sql(table_name, engine,if_exists='append', index=False)\n",
    "\n",
    "engine.dispose()'''"
   ]
  }
 ],
 "metadata": {
  "kernelspec": {
   "display_name": "Python 3 (ipykernel)",
   "language": "python",
   "name": "python3"
  },
  "language_info": {
   "codemirror_mode": {
    "name": "ipython",
    "version": 3
   },
   "file_extension": ".py",
   "mimetype": "text/x-python",
   "name": "python",
   "nbconvert_exporter": "python",
   "pygments_lexer": "ipython3",
   "version": "3.11.4"
  }
 },
 "nbformat": 4,
 "nbformat_minor": 5
}
